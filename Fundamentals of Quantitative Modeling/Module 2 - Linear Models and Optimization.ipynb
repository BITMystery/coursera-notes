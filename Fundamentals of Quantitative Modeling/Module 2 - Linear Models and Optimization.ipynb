{
 "cells": [
  {
   "cell_type": "markdown",
   "metadata": {},
   "source": [
    "Module 2: Linear Models and Optimization"
   ]
  },
  {
   "cell_type": "code",
   "execution_count": 1,
   "metadata": {
    "collapsed": true
   },
   "outputs": [],
   "source": [
    "import math"
   ]
  },
  {
   "cell_type": "markdown",
   "metadata": {},
   "source": [
    "Discrete compound growth model: $P_t = P_0\\theta^t$"
   ]
  },
  {
   "cell_type": "code",
   "execution_count": 2,
   "metadata": {},
   "outputs": [
    {
     "data": {
      "text/plain": [
       "1216.6529024000001"
      ]
     },
     "execution_count": 2,
     "metadata": {},
     "output_type": "execute_result"
    }
   ],
   "source": [
    "P_0 = 1000   # Principle amount at year 0\n",
    "theta = 1.04   # Annual grow rate\n",
    "dcg = lambda P_0, theta, t: P_0 * theta**t\n",
    "P_5 = dcg(P_0, theta, 5)   # Amount at year 5\n",
    "P_5"
   ]
  },
  {
   "cell_type": "markdown",
   "metadata": {},
   "source": [
    "Continuous compound grwoth model: $P_t = P_0e^{rt}$\n",
    "\n",
    "A.k.a., exponential growth/decay model."
   ]
  },
  {
   "cell_type": "code",
   "execution_count": 3,
   "metadata": {},
   "outputs": [
    {
     "data": {
      "text/plain": [
       "1221.40275816017"
      ]
     },
     "execution_count": 3,
     "metadata": {},
     "output_type": "execute_result"
    }
   ],
   "source": [
    "P_0 = 1000   # Principle amount at year 0\n",
    "r = 0.04    # Annual interest rate\n",
    "ccg = lambda P_0, r, t: P_0 * math.e**(r*t)\n",
    "P_5 = ccg(P_0, r, 5)   # Amount at year 5\n",
    "P_5"
   ]
  },
  {
   "cell_type": "code",
   "execution_count": 4,
   "metadata": {},
   "outputs": [
    {
     "name": "stdout",
     "output_type": "stream",
     "text": [
      "1000 1000\n",
      "1040 1040\n",
      "1081 1083\n",
      "1124 1127\n",
      "1169 1173\n",
      "1216 1221\n",
      "1265 1271\n",
      "1315 1323\n",
      "1368 1377\n",
      "1423 1433\n",
      "1480 1491\n",
      "1539 1552\n",
      "1601 1616\n",
      "1665 1682\n",
      "1731 1750\n",
      "1800 1822\n",
      "1872 1896\n",
      "1947 1973\n",
      "2025 2054\n",
      "2106 2138\n"
     ]
    }
   ],
   "source": [
    "for t in range(20):\n",
    "    print int(dcg(P_0, theta, t)), int(ccg(P_0, r, t))"
   ]
  }
 ],
 "metadata": {
  "kernelspec": {
   "display_name": "Python 2",
   "language": "python",
   "name": "python2"
  },
  "language_info": {
   "codemirror_mode": {
    "name": "ipython",
    "version": 2
   },
   "file_extension": ".py",
   "mimetype": "text/x-python",
   "name": "python",
   "nbconvert_exporter": "python",
   "pygments_lexer": "ipython2",
   "version": "2.7.13"
  }
 },
 "nbformat": 4,
 "nbformat_minor": 2
}
