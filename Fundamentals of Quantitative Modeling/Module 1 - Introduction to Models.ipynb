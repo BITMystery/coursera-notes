{
 "cells": [
  {
   "cell_type": "markdown",
   "metadata": {},
   "source": [
    "Module 1: Introduction to Models"
   ]
  },
  {
   "cell_type": "markdown",
   "metadata": {},
   "source": [
    "Four key mathematical functions: Linear, Power, Exponential, Log."
   ]
  },
  {
   "cell_type": "code",
   "execution_count": 43,
   "metadata": {
    "collapsed": true
   },
   "outputs": [],
   "source": [
    "import math"
   ]
  },
  {
   "cell_type": "markdown",
   "metadata": {},
   "source": [
    "Linear: $y = mx + b$\n",
    "\n",
    "Absolute change in x $\\rightarrow$ Absolute change in y"
   ]
  },
  {
   "cell_type": "code",
   "execution_count": 44,
   "metadata": {},
   "outputs": [
    {
     "data": {
      "text/plain": [
       "[5, 8, 11, 14]"
      ]
     },
     "execution_count": 44,
     "metadata": {},
     "output_type": "execute_result"
    }
   ],
   "source": [
    "m = 3\n",
    "b = 2\n",
    "linear = lambda x: m*x + b\n",
    "X = range(1, 5)   # Absolute changes in x.\n",
    "Y = [linear(x) for x in X]\n",
    "Y    # Seeing absolute changes in y."
   ]
  },
  {
   "cell_type": "markdown",
   "metadata": {},
   "source": [
    "Power: $y = x^m$\n",
    "\n",
    "$1\\%$ change in x $\\rightarrow$ $m\\%$ change in y (approximately)."
   ]
  },
  {
   "cell_type": "code",
   "execution_count": 45,
   "metadata": {},
   "outputs": [
    {
     "data": {
      "text/plain": [
       "[0.030301000000000133, 0.03030099999999969, 0.030301000000000577]"
      ]
     },
     "execution_count": 45,
     "metadata": {},
     "output_type": "execute_result"
    }
   ],
   "source": [
    "m = 3\n",
    "power = lambda x: x ** m\n",
    "x = 1\n",
    "X = [x * 1.01**n for n in range(4)]    # 1% changes in x.\n",
    "Y = [power(x) for x in X]\n",
    "percent_changes = [y2/y1 - 1 for y1, y2 in zip(Y[:-1], Y[1:])]\n",
    "percent_changes   # Seeing 3% changes in y."
   ]
  },
  {
   "cell_type": "markdown",
   "metadata": {},
   "source": [
    "Exponential: $y = e^{mx}$\n",
    "\n",
    "Absolute 1 unit change in x $\\rightarrow$ $100m\\%$ change in y (approximately)."
   ]
  },
  {
   "cell_type": "code",
   "execution_count": 46,
   "metadata": {},
   "outputs": [
    {
     "data": {
      "text/plain": [
       "[0.05127109637602412, 0.051271096376023895, 0.05127109637602412]"
      ]
     },
     "execution_count": 46,
     "metadata": {},
     "output_type": "execute_result"
    }
   ],
   "source": [
    "m = 0.05\n",
    "exponential = lambda x: math.e ** (m*x)\n",
    "X = range(1, 5)   # Absolute changes in x.\n",
    "Y = [exponential(x) for x in X]\n",
    "percent_changes = [y2/y1 - 1 for y1, y2 in zip(Y[:-1], Y[1:])]\n",
    "percent_changes   # Seeing 100m% changes in y."
   ]
  },
  {
   "cell_type": "markdown",
   "metadata": {},
   "source": [
    "Log: $y = \\log x$\n",
    "\n",
    "Percent change in x $\\rightarrow$ Absolute change in y (approximately)."
   ]
  },
  {
   "cell_type": "code",
   "execution_count": 47,
   "metadata": {},
   "outputs": [
    {
     "data": {
      "text/plain": [
       "[0.009950330853168092,\n",
       " 0.009950330853168082,\n",
       " 0.009950330853168203,\n",
       " 0.009950330853167978,\n",
       " 0.009950330853168203,\n",
       " 0.009950330853168064,\n",
       " 0.009950330853168002,\n",
       " 0.009950330853168154,\n",
       " 0.00995033085316796]"
      ]
     },
     "execution_count": 47,
     "metadata": {},
     "output_type": "execute_result"
    }
   ],
   "source": [
    "log = lambda x: math.log(x)\n",
    "x = 1\n",
    "X = [x * 1.01**n for n in range(10)]    # 1% changes in x.\n",
    "Y = [log(x) for x in X]\n",
    "percent_changes = [y2 - y1 for y1, y2 in zip(Y[:-1], Y[1:])]\n",
    "percent_changes   # Seeing absolute changes in y."
   ]
  }
 ],
 "metadata": {
  "kernelspec": {
   "display_name": "Python 2",
   "language": "python",
   "name": "python2"
  },
  "language_info": {
   "codemirror_mode": {
    "name": "ipython",
    "version": 2
   },
   "file_extension": ".py",
   "mimetype": "text/x-python",
   "name": "python",
   "nbconvert_exporter": "python",
   "pygments_lexer": "ipython2",
   "version": "2.7.13"
  }
 },
 "nbformat": 4,
 "nbformat_minor": 2
}
