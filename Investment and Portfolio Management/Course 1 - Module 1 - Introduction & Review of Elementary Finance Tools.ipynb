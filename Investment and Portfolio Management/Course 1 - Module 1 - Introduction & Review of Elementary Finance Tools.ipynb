{
 "cells": [
  {
   "cell_type": "markdown",
   "metadata": {},
   "source": [
    "**Course 1 - Module 1: Introduction & Review of Elementary Finance Tools**"
   ]
  },
  {
   "cell_type": "markdown",
   "metadata": {},
   "source": [
    " - $n$: number of years (periods)\n",
    " - $r$: interest rate\n",
    " - $g$: period cash growth rate.\n",
    "\n",
    "Annuity Compound Factor (ACF): $ACF(r, n) = 1 + (1+r)^1 + ... + (1+r)^{n-1} = \\frac{(1+r)^n - 1}{r}$\n",
    "\n",
    "Annuity Discount Factor (ADF): $ADF(r, n) = 1/(1+r)^1 + ... + 1/(1+r)^n = \\frac{1-1/(1+r)^n}{r}$\n",
    "\n",
    "$ACF(r, n, g) = \\frac{(1+r)^n-(1+g)^n}{r-g}$\n",
    "\n",
    "$ADF(r, n, g) = \\frac{1-\\frac{(1+g)^n}{(1+r)^n}}{r-g}$"
   ]
  },
  {
   "cell_type": "code",
   "execution_count": 14,
   "metadata": {
    "collapsed": true
   },
   "outputs": [],
   "source": [
    "ACF = lambda r, n: ((1+r)**n-1) / r\n",
    "ADF = lambda r, n: (1-1/(1+r)**n) / r"
   ]
  },
  {
   "cell_type": "markdown",
   "metadata": {},
   "source": [
    "Q: How much would you have saved in twenty years if you save $5000 every year and can guarantee earning 6% per year?"
   ]
  },
  {
   "cell_type": "code",
   "execution_count": 12,
   "metadata": {},
   "outputs": [
    {
     "data": {
      "text/plain": [
       "183927.95601773734"
      ]
     },
     "execution_count": 12,
     "metadata": {},
     "output_type": "execute_result"
    }
   ],
   "source": [
    "# Compute future value\n",
    "r = 0.06\n",
    "n = 20\n",
    "C = 5000\n",
    "v = C * ACF(r, n)\n",
    "v"
   ]
  },
  {
   "cell_type": "markdown",
   "metadata": {},
   "source": [
    "Q: Which one would you prefer?\n",
    "\n",
    " - Receive $10,000 now\n",
    "\n",
    " - Receive $1,000 every year for 13 years (the last payment occurs at the end of 13 years), if the interest rate is 4 percent per year."
   ]
  },
  {
   "cell_type": "code",
   "execution_count": 8,
   "metadata": {},
   "outputs": [
    {
     "data": {
      "text/plain": [
       "9985.647846633046"
      ]
     },
     "execution_count": 8,
     "metadata": {},
     "output_type": "execute_result"
    }
   ],
   "source": [
    "# Compute current value of choice b.\n",
    "r = 0.04\n",
    "n = 13\n",
    "C = 1000\n",
    "v = C * ADF(r, n)\n",
    "v"
   ]
  },
  {
   "cell_type": "markdown",
   "metadata": {},
   "source": [
    "Q: You are buying a new car. The car dealer gives you three financing options. If your objective is to minimize the present value of your car payments and your opportunity cost of capital is 0.5% per month, which one would you choose?\n",
    "\n",
    " - $500 per month for 36 months\n",
    "\n",
    " - $600 per month for 24 months\n",
    "\n",
    " - $350 per month for 48 months"
   ]
  },
  {
   "cell_type": "code",
   "execution_count": 9,
   "metadata": {},
   "outputs": [
    {
     "data": {
      "text/plain": [
       "(16435.508119632625, 13537.719733059532, 14903.111223988844)"
      ]
     },
     "execution_count": 9,
     "metadata": {},
     "output_type": "execute_result"
    }
   ],
   "source": [
    "r = 0.005\n",
    "n1, n2, n3 = 36, 24, 48\n",
    "C1, C2, C3 = 500, 600, 350\n",
    "v1, v2, v3 = C1 * ADF(r, n1), C2 * ADF(r, n2), C3 * ADF(r, n3)\n",
    "v1, v2, v3"
   ]
  },
  {
   "cell_type": "markdown",
   "metadata": {},
   "source": [
    "Q: You are buying a new house for $450,000. Reviewing different financing options, you have determined that you would like to minimize your monthly payment. Which financing option would you choose? Assume monthly payments over the life of the mortgage.\n",
    "\n",
    "30 year mortgage with annual interest rate of 3.5 percent\n",
    "\n",
    "20 year mortgage with an annual interest rate of 3 percent\n",
    "\n",
    "15 year mortgage with an annual interest rate of 2.8 percent"
   ]
  },
  {
   "cell_type": "code",
   "execution_count": 11,
   "metadata": {},
   "outputs": [
    {
     "data": {
      "text/plain": [
       "(2020.7010951397058, 2495.689190342643, 3064.515506613372)"
      ]
     },
     "execution_count": 11,
     "metadata": {},
     "output_type": "execute_result"
    }
   ],
   "source": [
    "n1, n2, n3 = 30 * 12, 20 * 12, 15 * 12\n",
    "r1, r2, r3 = 0.035 / 12, 0.03 / 12, 0.028 / 12\n",
    "v = 450000\n",
    "C1, C2, C3 = v / ADF(r1, n1), v / ADF(r2, n2), v / ADF(r3, n3)\n",
    "C1, C2, C3"
   ]
  },
  {
   "cell_type": "markdown",
   "metadata": {},
   "source": [
    "If the STATED Annual Percentage Rate (APR) compounded monthly is $r$, then:\n",
    " - the EFFECTIVE 1-month rate is $r/12$\n",
    " - the EFFECTIVE APR is $(1+r/12)^{12} - 1$\n",
    " - the EFFECTIVE continuously compounded rate is $e^r - 1$"
   ]
  },
  {
   "cell_type": "markdown",
   "metadata": {},
   "source": [
    "Q: What is the effective annual rate with a stated annual rate of 8% compounded quarterly?"
   ]
  },
  {
   "cell_type": "code",
   "execution_count": 33,
   "metadata": {},
   "outputs": [
    {
     "data": {
      "text/plain": [
       "0.08243215999999998"
      ]
     },
     "execution_count": 33,
     "metadata": {},
     "output_type": "execute_result"
    }
   ],
   "source": [
    "apr_stt = 0.08\n",
    "three_month_rate_eft = apr_stt / 4\n",
    "apr_eft = (1+three_month_rate_eft)**4 - 1\n",
    "apr_eft"
   ]
  },
  {
   "cell_type": "markdown",
   "metadata": {},
   "source": [
    "Q: What is the effective six-month rate if the stated annual rate is 8% compounded quarterly?"
   ]
  },
  {
   "cell_type": "code",
   "execution_count": 30,
   "metadata": {},
   "outputs": [
    {
     "data": {
      "text/plain": [
       "0.04039999999999999"
      ]
     },
     "execution_count": 30,
     "metadata": {},
     "output_type": "execute_result"
    }
   ],
   "source": [
    "apr_stt = 0.08\n",
    "three_month_rate_eft = apr_stt / 4\n",
    "six_month_rate_eft = (1+three_month_rate_eft)**2 - 1\n",
    "six_month_rate_eft"
   ]
  },
  {
   "cell_type": "markdown",
   "metadata": {},
   "source": [
    "Q: What is the effective six-month rate if the stated annual rate is 8% compounded monthly?"
   ]
  },
  {
   "cell_type": "code",
   "execution_count": 20,
   "metadata": {},
   "outputs": [
    {
     "data": {
      "text/plain": [
       "0.04067262230132185"
      ]
     },
     "execution_count": 20,
     "metadata": {},
     "output_type": "execute_result"
    }
   ],
   "source": [
    "apr_stt = 0.08\n",
    "one_month_rate_eft = apr_stt / 12\n",
    "six_month_rate_eft = (1+one_month_rate_eft)**6 - 1\n",
    "six_month_rate_eft"
   ]
  },
  {
   "cell_type": "markdown",
   "metadata": {},
   "source": [
    "Q: What is the five-year effective rate if the stated annual rate is 6% compounded semi-annually?"
   ]
  },
  {
   "cell_type": "code",
   "execution_count": 21,
   "metadata": {
    "scrolled": true
   },
   "outputs": [
    {
     "data": {
      "text/plain": [
       "0.3439163793441222"
      ]
     },
     "execution_count": 21,
     "metadata": {},
     "output_type": "execute_result"
    }
   ],
   "source": [
    "apr_stt = 0.06\n",
    "six_month_rate_eft = apr_stt / 2\n",
    "five_year_rate_eft = (1+six_month_rate_eft)**10 - 1\n",
    "five_year_rate_eft"
   ]
  },
  {
   "cell_type": "markdown",
   "metadata": {},
   "source": [
    "Which one would you prefer as an investment return?\n",
    "\n",
    " - A stated annual rate of return of 6%, compounded monthly\n",
    "\n",
    " - A stated annual rate of return of 7%, compounded quarterly\n",
    "\n",
    " - A stated annual rate of return of 6.5%, compounded semi-annually\n",
    "\n",
    " - A three-month rate of 2%, compounded quarterly"
   ]
  },
  {
   "cell_type": "code",
   "execution_count": 22,
   "metadata": {},
   "outputs": [
    {
     "data": {
      "text/plain": [
       "0.06167781186449828"
      ]
     },
     "execution_count": 22,
     "metadata": {},
     "output_type": "execute_result"
    }
   ],
   "source": [
    "one_month_rate_eft = 0.06 / 12\n",
    "apr_eft = (1+one_month_rate_eft)**12 - 1\n",
    "apr_eft"
   ]
  },
  {
   "cell_type": "code",
   "execution_count": 28,
   "metadata": {},
   "outputs": [
    {
     "data": {
      "text/plain": [
       "0.07185903128906279"
      ]
     },
     "execution_count": 28,
     "metadata": {},
     "output_type": "execute_result"
    }
   ],
   "source": [
    "three_month_rate_eft = 0.07 / 4\n",
    "apr_eft = (1+three_month_rate_eft)**4 - 1\n",
    "apr_eft"
   ]
  },
  {
   "cell_type": "code",
   "execution_count": 24,
   "metadata": {},
   "outputs": [
    {
     "data": {
      "text/plain": [
       "0.06605624999999993"
      ]
     },
     "execution_count": 24,
     "metadata": {},
     "output_type": "execute_result"
    }
   ],
   "source": [
    "six_month_rate_eft = 0.065 / 2\n",
    "apr_eft = (1+six_month_rate_eft)**2 - 1\n",
    "apr_eft"
   ]
  },
  {
   "cell_type": "code",
   "execution_count": 29,
   "metadata": {},
   "outputs": [
    {
     "data": {
      "text/plain": [
       "0.08243215999999998"
      ]
     },
     "execution_count": 29,
     "metadata": {},
     "output_type": "execute_result"
    }
   ],
   "source": [
    "three_month_rate_eft = 0.02\n",
    "apr_eft = (1+three_month_rate_eft)**4 - 1\n",
    "apr_eft"
   ]
  },
  {
   "cell_type": "markdown",
   "metadata": {},
   "source": [
    "Q: What is the effective 3-month return on a 1-year certificate of deposit with a stated annual rate of 8% compounded quarterly?"
   ]
  },
  {
   "cell_type": "code",
   "execution_count": 31,
   "metadata": {},
   "outputs": [
    {
     "data": {
      "text/plain": [
       "0.02"
      ]
     },
     "execution_count": 31,
     "metadata": {},
     "output_type": "execute_result"
    }
   ],
   "source": [
    "apr_stt = 0.08\n",
    "three_month_rate_eft = apr_stt / 4\n",
    "three_month_rate_eft"
   ]
  },
  {
   "cell_type": "markdown",
   "metadata": {
    "collapsed": true
   },
   "source": [
    "Perpetuities:\n",
    " - For fixed cash $c$ for each period with interest rate $r$, $v_0=\\frac{c}{r}$\n",
    " - For growing cash for each period (growth rate is $g$) initialized with $c$ and with interest rate $r$, $v_0=\\frac{c}{r-g}$"
   ]
  },
  {
   "cell_type": "markdown",
   "metadata": {
    "collapsed": true
   },
   "source": [
    "Q: How much would you be willing to pay today for the opportunity to receive $10,000 every year forever if the interest rate is 5% per year?"
   ]
  },
  {
   "cell_type": "code",
   "execution_count": 1,
   "metadata": {},
   "outputs": [
    {
     "data": {
      "text/plain": [
       "200000.0"
      ]
     },
     "execution_count": 1,
     "metadata": {},
     "output_type": "execute_result"
    }
   ],
   "source": [
    "c = 10000\n",
    "r = 0.05\n",
    "v = c / r\n",
    "v"
   ]
  },
  {
   "cell_type": "markdown",
   "metadata": {},
   "source": [
    "How much would you be willing to pay today for the opportunity to receive $1000 every month forever if the interest rate is 5% per year?"
   ]
  },
  {
   "cell_type": "code",
   "execution_count": 11,
   "metadata": {},
   "outputs": [
    {
     "data": {
      "text/plain": [
       "240000.0"
      ]
     },
     "execution_count": 11,
     "metadata": {},
     "output_type": "execute_result"
    }
   ],
   "source": [
    "c = 1000\n",
    "r = 0.05\n",
    "r_month = r / 12\n",
    "v = c / r_month\n",
    "v"
   ]
  },
  {
   "cell_type": "markdown",
   "metadata": {},
   "source": [
    "Q: How much would you have to donate to your alma mater so that a scholarship of $2000 that grows at an annual rate of 2% can be created in your name one year from today if your endowment can be invested at an annual rate of 4%? "
   ]
  },
  {
   "cell_type": "code",
   "execution_count": 3,
   "metadata": {},
   "outputs": [
    {
     "data": {
      "text/plain": [
       "100000.0"
      ]
     },
     "execution_count": 3,
     "metadata": {},
     "output_type": "execute_result"
    }
   ],
   "source": [
    "c = 2000\n",
    "r = 0.04\n",
    "g = 0.02\n",
    "v = c / (r-g)\n",
    "v"
   ]
  },
  {
   "cell_type": "markdown",
   "metadata": {},
   "source": [
    "Which one would you prefer if your opportunity cost of capital is 6 percent per year?\n",
    "\n",
    " - Receiving $150,000 today\n",
    " \n",
    " - Receiving \\$100,000 today and a stream of cash flows every month for the next 36 months starting next month with \\$1250 every month and growing by 0.125% every month\n",
    "\n",
    " - Receiving $750 every month forever starting today\n",
    "\n",
    " - Receiving \\$25000 today and a stream of cash flows every month forever starting with \\$500 next month growing by 0.125%"
   ]
  },
  {
   "cell_type": "code",
   "execution_count": 7,
   "metadata": {
    "collapsed": true
   },
   "outputs": [],
   "source": [
    "ACF_with_growth = lambda r, n, g: ((1+r)**n-(1+g)**n) / (r-g)\n",
    "ADF_with_growth = lambda r, n, g: (1-(1+g)**n/(1+r)**n) / (r-g)"
   ]
  },
  {
   "cell_type": "code",
   "execution_count": 12,
   "metadata": {},
   "outputs": [
    {
     "data": {
      "text/plain": [
       "(150000, 141972.23247035994, 150750.0, 158333.33333333334)"
      ]
     },
     "execution_count": 12,
     "metadata": {},
     "output_type": "execute_result"
    }
   ],
   "source": [
    "v1 = 150000\n",
    "\n",
    "c, r, n, g = 1250, 0.06 / 12, 36, 0.00125\n",
    "v2 = 100000 + c*ADF_with_growth(r, n, g)\n",
    "\n",
    "c, r = 750, 0.06 / 12\n",
    "v3 = 750 + c / r\n",
    "\n",
    "c, r, g = 500, 0.06 / 12, 0.00125\n",
    "v4 = 25000 + c / (r-g)\n",
    "v1, v2, v3, v4"
   ]
  },
  {
   "cell_type": "markdown",
   "metadata": {},
   "source": [
    "Q: Bob and Jane Loveboat are saving to buy a boat at the end of 5 years. If the boat costs $25,000, and they can earn 8 percent a year on their savings, how much do they need to put aside at the end of every year 1 through 5?"
   ]
  },
  {
   "cell_type": "code",
   "execution_count": 15,
   "metadata": {},
   "outputs": [
    {
     "data": {
      "text/plain": [
       "4261.41136417091"
      ]
     },
     "execution_count": 15,
     "metadata": {},
     "output_type": "execute_result"
    }
   ],
   "source": [
    "r = 0.08\n",
    "n = 5\n",
    "v = 25000\n",
    "c = v / ACF(r, n)\n",
    "c"
   ]
  },
  {
   "cell_type": "markdown",
   "metadata": {},
   "source": [
    "Q: You made your fortune in the dot-com boom (and got out in time!) As part of your legacy, you would like to endow an annual scholarship at your alma mater. You want it to be memorable, so you would like the scholarship to be $20,000 per year. If the university earns 8% on its investments, and if the first scholarship is to be given out in one year’s time, how much will you need to donate to create the scholarship fund? "
   ]
  },
  {
   "cell_type": "code",
   "execution_count": 18,
   "metadata": {},
   "outputs": [
    {
     "data": {
      "text/plain": [
       "250000.0"
      ]
     },
     "execution_count": 18,
     "metadata": {},
     "output_type": "execute_result"
    }
   ],
   "source": [
    "c = 20000\n",
    "r = 0.08\n",
    "v = c / r\n",
    "v"
   ]
  },
  {
   "cell_type": "markdown",
   "metadata": {},
   "source": [
    "Q: Assuming that the annual interest rate is 7%, how much would you pay to receive $100 every year, growing at 5%, annually, forever? "
   ]
  },
  {
   "cell_type": "code",
   "execution_count": 22,
   "metadata": {},
   "outputs": [
    {
     "data": {
      "text/plain": [
       "4999.999999999999"
      ]
     },
     "execution_count": 22,
     "metadata": {},
     "output_type": "execute_result"
    }
   ],
   "source": [
    "r = 0.07\n",
    "c = 100\n",
    "g = 0.05\n",
    "v = c / (r-g)\n",
    "v"
   ]
  },
  {
   "cell_type": "markdown",
   "metadata": {},
   "source": [
    "Q: What is the future value three years from now of $1000 invested in an account with a stated annual interest rate of 8%, if compounded semi-annually?"
   ]
  },
  {
   "cell_type": "code",
   "execution_count": 40,
   "metadata": {},
   "outputs": [
    {
     "data": {
      "text/plain": [
       "1265.3190184960004"
      ]
     },
     "execution_count": 40,
     "metadata": {},
     "output_type": "execute_result"
    }
   ],
   "source": [
    "r_stt = 0.08\n",
    "v = 1000\n",
    "n = 3 * 2\n",
    "six_month_eft = r_stt / 2\n",
    "v_future = c * (1+six_month_eft)**n\n",
    "v_future"
   ]
  },
  {
   "cell_type": "markdown",
   "metadata": {},
   "source": [
    "Q: What is the future value three years from now of $1000 invested in an account with a stated annual interest rate of 8%, if compounded monthly?"
   ]
  },
  {
   "cell_type": "code",
   "execution_count": 41,
   "metadata": {},
   "outputs": [
    {
     "data": {
      "text/plain": [
       "1270.2370516206506"
      ]
     },
     "execution_count": 41,
     "metadata": {},
     "output_type": "execute_result"
    }
   ],
   "source": [
    "r_stt = 0.08\n",
    "v = 1000\n",
    "n = 3 * 12\n",
    "one_month_eft = r_stt / 12\n",
    "v_future = v * (1+one_month_eft)**n\n",
    "v_future"
   ]
  },
  {
   "cell_type": "markdown",
   "metadata": {},
   "source": [
    "Q: You want to lease a set of golf clubs from Holes, Ltd. The lease contract is in the form of 24 equal monthly payments at a 12 percent, compounded monthly. Since the clubs cost \\$4,000 retail, Holes wants the present value of the lease payments to equal \\$4,000. Suppose you first payment is due immediately. What will your monthly lease payment be?"
   ]
  },
  {
   "cell_type": "code",
   "execution_count": 28,
   "metadata": {},
   "outputs": [
    {
     "data": {
      "text/plain": [
       "186.42959296342445"
      ]
     },
     "execution_count": 28,
     "metadata": {},
     "output_type": "execute_result"
    }
   ],
   "source": [
    "n = 23 # Note that first payment is due immediately\n",
    "r_stt = 0.12\n",
    "v = 4000\n",
    "one_month_eft = r_stt / 12\n",
    "c = v / (ADF(one_month_eft, n) + 1)\n",
    "c"
   ]
  },
  {
   "cell_type": "markdown",
   "metadata": {},
   "source": [
    "Q: You want to retire a millionaire when you are 65. Currently, you have \\$20,000 in savings and are 30 years old. How much will you have to save each year for the next 35 years in order to have \\$1,000,000? Assume you earn 9% on your savings every year."
   ]
  },
  {
   "cell_type": "code",
   "execution_count": 43,
   "metadata": {},
   "outputs": [
    {
     "data": {
      "text/plain": [
       "2743.120724737471"
      ]
     },
     "execution_count": 43,
     "metadata": {},
     "output_type": "execute_result"
    }
   ],
   "source": [
    "r = 0.09\n",
    "n = 35\n",
    "v = 1000000 - 20000*(1+r)**n\n",
    "c = v / ACF(r, n)\n",
    "c"
   ]
  },
  {
   "cell_type": "markdown",
   "metadata": {},
   "source": [
    "Q: Leeds Autos has just announced its new promotional deal on the new \\$45,000 Z4 Roadster. You pay \\$5,000 down, and then \\$1000 for the next 40 months. Its next door competitor, Chatham Hill Autos will give you a \\$3000 off the list price straight away. If the interest rate is 6% a year, which company is giving a better deal?\n",
    "\n",
    " - Leeds Autos\n",
    "\n",
    " - Chatham Hill Autos"
   ]
  },
  {
   "cell_type": "code",
   "execution_count": 32,
   "metadata": {},
   "outputs": [
    {
     "data": {
      "text/plain": [
       "(41172.227864082386, 42000)"
      ]
     },
     "execution_count": 32,
     "metadata": {},
     "output_type": "execute_result"
    }
   ],
   "source": [
    "r = 0.06 / 12\n",
    "n = 40\n",
    "c = 1000\n",
    "v1 = 5000 + c*ADF(r, n)\n",
    "v2 = 45000 - 3000\n",
    "v1, v2"
   ]
  },
  {
   "cell_type": "markdown",
   "metadata": {},
   "source": [
    "Your parents make you the following offer: They will give you \\$5000 at the end of every six months for the next five years if you agree to pay them back \\$5000 at the end of every six months for the following ten years. Should you accept this offer if your opportunity cost of funds is 18% per year, compounded semiannually?"
   ]
  },
  {
   "cell_type": "code",
   "execution_count": 33,
   "metadata": {},
   "outputs": [
    {
     "data": {
      "text/plain": [
       "(75964.64858845108, 45642.72834542962)"
      ]
     },
     "execution_count": 33,
     "metadata": {},
     "output_type": "execute_result"
    }
   ],
   "source": [
    "r = 0.18 / 2\n",
    "n1 = 5 * 2\n",
    "n2 = 10 * 2\n",
    "c = 5000\n",
    "v1 = c * ACF(r, n1)\n",
    "v2 = c * ADF(r, n2)\n",
    "v1, v2"
   ]
  },
  {
   "cell_type": "code",
   "execution_count": null,
   "metadata": {
    "collapsed": true
   },
   "outputs": [],
   "source": []
  }
 ],
 "metadata": {
  "kernelspec": {
   "display_name": "Python 2",
   "language": "python",
   "name": "python2"
  },
  "language_info": {
   "codemirror_mode": {
    "name": "ipython",
    "version": 2
   },
   "file_extension": ".py",
   "mimetype": "text/x-python",
   "name": "python",
   "nbconvert_exporter": "python",
   "pygments_lexer": "ipython2",
   "version": "2.7.13"
  }
 },
 "nbformat": 4,
 "nbformat_minor": 2
}
